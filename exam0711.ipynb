{
 "cells": [
  {
   "cell_type": "code",
   "execution_count": null,
   "id": "6a9e9f5945c1b169",
   "metadata": {},
   "outputs": [],
   "source": [
    "# https://fred.stlouisfed.org/series/FEDFUNDS\n",
    "# https://il.investing.com/currencies/usd-ils-historical-data\n",
    "# https://www.boi.org.il/roles/markets/exchangerates/usdollar/\n",
    "# https://market.tase.co.il/he/market_data/securities/data/gov_bonds\n",
    "# https://market.tase.co.il/he/market_data/securities/data/bonds"
   ]
  },
  {
   "cell_type": "markdown",
   "id": "2b8e938eb34b0315",
   "metadata": {},
   "source": [
    "# Exercise: Exploratory Data Analysis with Pandas\n",
    "## Instructions\n",
    "1. Data Collection\n",
    "    - Search and collect data on the following: (1993 - 2023)\n",
    "        - Israel interest tares\n",
    "        - US interest rates\n",
    "        - USD to ILS exchange rates\n",
    "    - For each dataset, create a pandas DataFrame with the following columns:\n",
    "        - Year\n",
    "        - Month\n",
    "        - Current_Rate (Interest rate or exchange rate for that month)\n",
    "        - Change_From_Last_Month (Difference in Current_Rate from the previous month)\n",
    "        - Optional: You may include additional columns if you find them useful (e.g., Change_Percentage, Date).\n",
    "\n"
   ]
  },
  {
   "cell_type": "code",
   "execution_count": 21,
   "id": "17a7b132e53c5faa",
   "metadata": {},
   "outputs": [],
   "source": [
    "import numpy as np\n",
    "import pandas as pd"
   ]
  },
  {
   "cell_type": "code",
   "execution_count": 22,
   "id": "f35ddf73-840b-4537-9279-91b84e3241a4",
   "metadata": {},
   "outputs": [],
   "source": [
    "finance = {\n",
    "        'Finance_Id': 'Int64',\n",
    "        'Year': str,\n",
    "        'Month': str,\n",
    "        'OBS_VALUE': str,\n",
    "        'Change_From_Last_Month': str,\n",
    "    }"
   ]
  },
  {
   "cell_type": "code",
   "execution_count": 49,
   "id": "8fb38157aa6333f3",
   "metadata": {},
   "outputs": [],
   "source": [
    "# your code here\n",
    "URL_ISRAEL_INTEREST_TARES = './data_Matanel/BR.csv'\n",
    "URL_US_INTEREST_RATES = './data_my/FEDFUNDS.csv'\n",
    "URL_USD_TO_ILS_EXCHANGE_RATES = './data_my/EXR.csv'\n",
    "\n",
    "\n",
    "israel_interest_tares_csv = pd.read_csv(URL_ISRAEL_INTEREST_TARES)\n",
    "israel_interest_tares = pd.DataFrame({\n",
    "    'Year': [year[:4] for year in israel_interest_tares_csv['TIME_PERIOD']],\n",
    "    'Month': [month[5:7] for month in israel_interest_tares_csv['TIME_PERIOD']],\n",
    "    'Israel_Interest_Tares': [rate for rate in israel_interest_tares_csv['OBS_VALUE']],\n",
    "})\n",
    "\n",
    "us_interest_rates_csv = pd.read_csv(URL_US_INTEREST_RATES)\n",
    "us_interest_rates = pd.DataFrame({\n",
    "    'Year': [year[:4] for year in us_interest_rates_csv['DATE']],\n",
    "    'Month': [month[5:7] for month in us_interest_rates_csv['DATE']],\n",
    "    'Us_Interest_Rates': [rate for rate in us_interest_rates_csv['FEDFUNDS']],\n",
    "})\n",
    "\n",
    "usd_to_ils_exchange_rates_csv = pd.read_csv(URL_USD_TO_ILS_EXCHANGE_RATES)\n",
    "usd_to_ils_exchange_rates = pd.DataFrame({\n",
    "    'Year': [year[:4] for year in usd_to_ils_exchange_rates_csv['TIME_PERIOD']],\n",
    "    'Month': [month[5:7] for month in usd_to_ils_exchange_rates_csv['TIME_PERIOD']],\n",
    "    'Current_Rate': [rate for rate in usd_to_ils_exchange_rates_csv['OBS_VALUE']],\n",
    "})\n",
    "usd_to_ils_exchange_rates['Change_From_Last_Month'] = usd_to_ils_exchange_rates['Current_Rate'].diff()"
   ]
  },
  {
   "cell_type": "code",
   "execution_count": 24,
   "id": "e6cb7b0d-41f7-49d8-a153-7e3188de9b21",
   "metadata": {},
   "outputs": [
    {
     "data": {
      "text/html": [
       "<div>\n",
       "<style scoped>\n",
       "    .dataframe tbody tr th:only-of-type {\n",
       "        vertical-align: middle;\n",
       "    }\n",
       "\n",
       "    .dataframe tbody tr th {\n",
       "        vertical-align: top;\n",
       "    }\n",
       "\n",
       "    .dataframe thead th {\n",
       "        text-align: right;\n",
       "    }\n",
       "</style>\n",
       "<table border=\"1\" class=\"dataframe\">\n",
       "  <thead>\n",
       "    <tr style=\"text-align: right;\">\n",
       "      <th></th>\n",
       "      <th>Year</th>\n",
       "      <th>Month</th>\n",
       "      <th>Israel_Interest_Tares</th>\n",
       "      <th>Us_Interest_Rates</th>\n",
       "      <th>Current_Rate</th>\n",
       "      <th>Change_From_Last_Month</th>\n",
       "    </tr>\n",
       "  </thead>\n",
       "  <tbody>\n",
       "    <tr>\n",
       "      <th>0</th>\n",
       "      <td>1994</td>\n",
       "      <td>01</td>\n",
       "      <td>10.50</td>\n",
       "      <td>3.05</td>\n",
       "      <td>2.986</td>\n",
       "      <td>0.000</td>\n",
       "    </tr>\n",
       "    <tr>\n",
       "      <th>1</th>\n",
       "      <td>1994</td>\n",
       "      <td>01</td>\n",
       "      <td>10.50</td>\n",
       "      <td>3.05</td>\n",
       "      <td>2.986</td>\n",
       "      <td>0.000</td>\n",
       "    </tr>\n",
       "    <tr>\n",
       "      <th>2</th>\n",
       "      <td>1994</td>\n",
       "      <td>01</td>\n",
       "      <td>10.50</td>\n",
       "      <td>3.05</td>\n",
       "      <td>2.995</td>\n",
       "      <td>0.009</td>\n",
       "    </tr>\n",
       "    <tr>\n",
       "      <th>3</th>\n",
       "      <td>1994</td>\n",
       "      <td>01</td>\n",
       "      <td>10.50</td>\n",
       "      <td>3.05</td>\n",
       "      <td>2.987</td>\n",
       "      <td>-0.008</td>\n",
       "    </tr>\n",
       "    <tr>\n",
       "      <th>4</th>\n",
       "      <td>1994</td>\n",
       "      <td>01</td>\n",
       "      <td>10.50</td>\n",
       "      <td>3.05</td>\n",
       "      <td>2.987</td>\n",
       "      <td>0.000</td>\n",
       "    </tr>\n",
       "    <tr>\n",
       "      <th>...</th>\n",
       "      <td>...</td>\n",
       "      <td>...</td>\n",
       "      <td>...</td>\n",
       "      <td>...</td>\n",
       "      <td>...</td>\n",
       "      <td>...</td>\n",
       "    </tr>\n",
       "    <tr>\n",
       "      <th>227434</th>\n",
       "      <td>2023</td>\n",
       "      <td>12</td>\n",
       "      <td>4.75</td>\n",
       "      <td>5.33</td>\n",
       "      <td>3.599</td>\n",
       "      <td>-0.017</td>\n",
       "    </tr>\n",
       "    <tr>\n",
       "      <th>227435</th>\n",
       "      <td>2023</td>\n",
       "      <td>12</td>\n",
       "      <td>4.75</td>\n",
       "      <td>5.33</td>\n",
       "      <td>3.628</td>\n",
       "      <td>0.029</td>\n",
       "    </tr>\n",
       "    <tr>\n",
       "      <th>227436</th>\n",
       "      <td>2023</td>\n",
       "      <td>12</td>\n",
       "      <td>4.75</td>\n",
       "      <td>5.33</td>\n",
       "      <td>3.624</td>\n",
       "      <td>-0.004</td>\n",
       "    </tr>\n",
       "    <tr>\n",
       "      <th>227437</th>\n",
       "      <td>2023</td>\n",
       "      <td>12</td>\n",
       "      <td>4.75</td>\n",
       "      <td>5.33</td>\n",
       "      <td>3.619</td>\n",
       "      <td>-0.005</td>\n",
       "    </tr>\n",
       "    <tr>\n",
       "      <th>227438</th>\n",
       "      <td>2023</td>\n",
       "      <td>12</td>\n",
       "      <td>4.75</td>\n",
       "      <td>5.33</td>\n",
       "      <td>3.627</td>\n",
       "      <td>0.008</td>\n",
       "    </tr>\n",
       "  </tbody>\n",
       "</table>\n",
       "<p>227439 rows × 6 columns</p>\n",
       "</div>"
      ],
      "text/plain": [
       "        Year Month  Israel_Interest_Tares  Us_Interest_Rates  Current_Rate  \\\n",
       "0       1994    01                  10.50               3.05         2.986   \n",
       "1       1994    01                  10.50               3.05         2.986   \n",
       "2       1994    01                  10.50               3.05         2.995   \n",
       "3       1994    01                  10.50               3.05         2.987   \n",
       "4       1994    01                  10.50               3.05         2.987   \n",
       "...      ...   ...                    ...                ...           ...   \n",
       "227434  2023    12                   4.75               5.33         3.599   \n",
       "227435  2023    12                   4.75               5.33         3.628   \n",
       "227436  2023    12                   4.75               5.33         3.624   \n",
       "227437  2023    12                   4.75               5.33         3.619   \n",
       "227438  2023    12                   4.75               5.33         3.627   \n",
       "\n",
       "        Change_From_Last_Month  \n",
       "0                        0.000  \n",
       "1                        0.000  \n",
       "2                        0.009  \n",
       "3                       -0.008  \n",
       "4                        0.000  \n",
       "...                        ...  \n",
       "227434                  -0.017  \n",
       "227435                   0.029  \n",
       "227436                  -0.004  \n",
       "227437                  -0.005  \n",
       "227438                   0.008  \n",
       "\n",
       "[227439 rows x 6 columns]"
      ]
     },
     "execution_count": 24,
     "metadata": {},
     "output_type": "execute_result"
    }
   ],
   "source": [
    "# taken from: https://stackoverflow.com/questions/30627968/merge-pandas-dataframes-where-one-value-is-between-two-others\n",
    "data = pd.merge(israel_interest_tares, us_interest_rates, on=['Year', 'Month'], how='inner')\n",
    "data = pd.merge(merged_data, usd_to_ils_exchange_rates, on=['Year', 'Month'], how='inner')\n",
    "\n",
    "data"
   ]
  },
  {
   "cell_type": "markdown",
   "id": "71323c7318598fbb",
   "metadata": {},
   "source": [
    "## Part A: Single DataFrame Analysis \n",
    "1. Display the first 5 rows of the US interest rates DataFrame.\n",
    "\n",
    "2. Calculate the average Israeli interest rate over the period covered by your data.\n",
    "\n",
    "3. Find the month and year when the USD to ILS exchange rate had the highest increase from the previous month.\n",
    "\n",
    "4. Determine the total number of months where the US interest rate decreased compared to the previous month.\n",
    "\n",
    "5. Add a new column to the Israeli interest rates DataFrame called Change_Percentage, representing the percentage change from the previous month.\n",
    "\n"
   ]
  },
  {
   "cell_type": "code",
   "execution_count": 25,
   "id": "399887d7fba8803a",
   "metadata": {
    "ExecuteTime": {
     "end_time": "2024-11-07T00:06:28.045691Z",
     "start_time": "2024-11-07T00:06:28.043900Z"
    }
   },
   "outputs": [
    {
     "data": {
      "text/html": [
       "<div>\n",
       "<style scoped>\n",
       "    .dataframe tbody tr th:only-of-type {\n",
       "        vertical-align: middle;\n",
       "    }\n",
       "\n",
       "    .dataframe tbody tr th {\n",
       "        vertical-align: top;\n",
       "    }\n",
       "\n",
       "    .dataframe thead th {\n",
       "        text-align: right;\n",
       "    }\n",
       "</style>\n",
       "<table border=\"1\" class=\"dataframe\">\n",
       "  <thead>\n",
       "    <tr style=\"text-align: right;\">\n",
       "      <th></th>\n",
       "      <th>Year</th>\n",
       "      <th>Month</th>\n",
       "      <th>Us_Interest_Rates</th>\n",
       "    </tr>\n",
       "  </thead>\n",
       "  <tbody>\n",
       "    <tr>\n",
       "      <th>0</th>\n",
       "      <td>1954</td>\n",
       "      <td>07</td>\n",
       "      <td>0.80</td>\n",
       "    </tr>\n",
       "    <tr>\n",
       "      <th>1</th>\n",
       "      <td>1954</td>\n",
       "      <td>08</td>\n",
       "      <td>1.22</td>\n",
       "    </tr>\n",
       "    <tr>\n",
       "      <th>2</th>\n",
       "      <td>1954</td>\n",
       "      <td>09</td>\n",
       "      <td>1.07</td>\n",
       "    </tr>\n",
       "    <tr>\n",
       "      <th>3</th>\n",
       "      <td>1954</td>\n",
       "      <td>10</td>\n",
       "      <td>0.85</td>\n",
       "    </tr>\n",
       "    <tr>\n",
       "      <th>4</th>\n",
       "      <td>1954</td>\n",
       "      <td>11</td>\n",
       "      <td>0.83</td>\n",
       "    </tr>\n",
       "  </tbody>\n",
       "</table>\n",
       "</div>"
      ],
      "text/plain": [
       "   Year Month  Us_Interest_Rates\n",
       "0  1954    07               0.80\n",
       "1  1954    08               1.22\n",
       "2  1954    09               1.07\n",
       "3  1954    10               0.85\n",
       "4  1954    11               0.83"
      ]
     },
     "execution_count": 25,
     "metadata": {},
     "output_type": "execute_result"
    }
   ],
   "source": [
    "# A - 1\n",
    "# your code here\n",
    "us_interest_rates.head(5)"
   ]
  },
  {
   "cell_type": "code",
   "execution_count": 26,
   "id": "91d022cc344514de",
   "metadata": {
    "ExecuteTime": {
     "end_time": "2024-11-07T00:06:49.986484Z",
     "start_time": "2024-11-07T00:06:49.984372Z"
    }
   },
   "outputs": [
    {
     "data": {
      "text/plain": [
       "4.880738267313146"
      ]
     },
     "execution_count": 26,
     "metadata": {},
     "output_type": "execute_result"
    }
   ],
   "source": [
    "# A - 2\n",
    "# your code here\n",
    "israel_interest_tares['Israel_Interest_Tares'].mean()"
   ]
  },
  {
   "cell_type": "code",
   "execution_count": 27,
   "id": "c29c363cd4e9a279",
   "metadata": {
    "ExecuteTime": {
     "end_time": "2024-11-07T00:06:53.867357Z",
     "start_time": "2024-11-07T00:06:53.865505Z"
    }
   },
   "outputs": [
    {
     "data": {
      "text/plain": [
       "0.21499999999999986"
      ]
     },
     "execution_count": 27,
     "metadata": {},
     "output_type": "execute_result"
    }
   ],
   "source": [
    "# A - 3\n",
    "# your code here\n",
    "usd_to_ils_exchange_rates['Change_From_Last_Month'].max()"
   ]
  },
  {
   "cell_type": "code",
   "execution_count": 35,
   "id": "c4c8ec122d04672",
   "metadata": {
    "ExecuteTime": {
     "end_time": "2024-11-07T00:06:56.963009Z",
     "start_time": "2024-11-07T00:06:56.960675Z"
    }
   },
   "outputs": [
    {
     "data": {
      "text/plain": [
       "328"
      ]
     },
     "execution_count": 35,
     "metadata": {},
     "output_type": "execute_result"
    }
   ],
   "source": [
    "# A - 4\n",
    "# your code here\n",
    "us_interest_rates['Change_From_Last_Month'] = us_interest_rates['Us_Interest_Rates'].diff()\n",
    "\n",
    "(us_interest_rates['Change_From_Last_Month'] < 0).sum()"
   ]
  },
  {
   "cell_type": "code",
   "execution_count": 39,
   "id": "49115d5dbff52532",
   "metadata": {},
   "outputs": [
    {
     "data": {
      "text/plain": [
       "249.99999999999994"
      ]
     },
     "execution_count": 39,
     "metadata": {},
     "output_type": "execute_result"
    }
   ],
   "source": [
    "# A - 5\n",
    "# your code here\n",
    "israel_interest_tares['Change_From_Last_Month'] = israel_interest_tares['Israel_Interest_Tares'].diff()\n",
    "\n",
    "israel_interest_tares['Change_Percentage'] = (israel_interest_tares['Change_From_Last_Month'] / israel_interest_tares['Israel_Interest_Tares'].shift(1)) * 100\n",
    "\n",
    "israel_interest_tares['Change_Percentage'].max()"
   ]
  },
  {
   "cell_type": "markdown",
   "id": "37324394ba9e1454",
   "metadata": {},
   "source": [
    "## Part B: Merging DataFrames\n",
    "1. Merge the US and Israeli interest rates DataFrames on Year and Month.\n",
    "\n",
    "2. In the merged DataFrame, create a new column Rate_Difference that shows the difference between the Israeli and US interest rates for each month.\n",
    "\n",
    "3. Identify all months when the Israeli interest rate was at least 1% higher than the US interest rate - IH (Israeli Higher).\n",
    "Identify all months when the US interest rate was at least 1% higher than the Israeli interest rate - UH (US Higher).\n",
    "Identify all months when the interest rates were within 1% of each other - N (Near)\n",
    "make a new column called Rate_Comparison with the following values: IH, UH, or N.\n",
    "\n",
    "4. Merge the exchange rate DataFrame with the merged interest rates DataFrame.\n",
    "\n",
    "5. After merging all three DataFrames, find the correlation between the Rate_Difference and the Current_Rate of the exchange rate.\n",
    "hint: find the connection between the difference in interest rates and the exchange rates, use any method you think is appropriate.\n",
    "provide an explanation of the results (in Hebrew) - at least 2 rows of text + a proof of the connection(some output) you found.\n"
   ]
  },
  {
   "cell_type": "code",
   "execution_count": 50,
   "id": "f6fcdba8d4d32d73",
   "metadata": {
    "ExecuteTime": {
     "end_time": "2024-11-07T00:06:02.968903Z",
     "start_time": "2024-11-07T00:06:02.967090Z"
    }
   },
   "outputs": [
    {
     "data": {
      "text/html": [
       "<div>\n",
       "<style scoped>\n",
       "    .dataframe tbody tr th:only-of-type {\n",
       "        vertical-align: middle;\n",
       "    }\n",
       "\n",
       "    .dataframe tbody tr th {\n",
       "        vertical-align: top;\n",
       "    }\n",
       "\n",
       "    .dataframe thead th {\n",
       "        text-align: right;\n",
       "    }\n",
       "</style>\n",
       "<table border=\"1\" class=\"dataframe\">\n",
       "  <thead>\n",
       "    <tr style=\"text-align: right;\">\n",
       "      <th></th>\n",
       "      <th>Year</th>\n",
       "      <th>Month</th>\n",
       "      <th>Israel_Interest_Tares</th>\n",
       "      <th>Us_Interest_Rates</th>\n",
       "    </tr>\n",
       "  </thead>\n",
       "  <tbody>\n",
       "    <tr>\n",
       "      <th>0</th>\n",
       "      <td>1994</td>\n",
       "      <td>01</td>\n",
       "      <td>10.50</td>\n",
       "      <td>3.05</td>\n",
       "    </tr>\n",
       "    <tr>\n",
       "      <th>1</th>\n",
       "      <td>1994</td>\n",
       "      <td>01</td>\n",
       "      <td>10.50</td>\n",
       "      <td>3.05</td>\n",
       "    </tr>\n",
       "    <tr>\n",
       "      <th>2</th>\n",
       "      <td>1994</td>\n",
       "      <td>01</td>\n",
       "      <td>10.50</td>\n",
       "      <td>3.05</td>\n",
       "    </tr>\n",
       "    <tr>\n",
       "      <th>3</th>\n",
       "      <td>1994</td>\n",
       "      <td>01</td>\n",
       "      <td>10.50</td>\n",
       "      <td>3.05</td>\n",
       "    </tr>\n",
       "    <tr>\n",
       "      <th>4</th>\n",
       "      <td>1994</td>\n",
       "      <td>01</td>\n",
       "      <td>10.50</td>\n",
       "      <td>3.05</td>\n",
       "    </tr>\n",
       "    <tr>\n",
       "      <th>...</th>\n",
       "      <td>...</td>\n",
       "      <td>...</td>\n",
       "      <td>...</td>\n",
       "      <td>...</td>\n",
       "    </tr>\n",
       "    <tr>\n",
       "      <th>10926</th>\n",
       "      <td>2023</td>\n",
       "      <td>12</td>\n",
       "      <td>4.75</td>\n",
       "      <td>5.33</td>\n",
       "    </tr>\n",
       "    <tr>\n",
       "      <th>10927</th>\n",
       "      <td>2023</td>\n",
       "      <td>12</td>\n",
       "      <td>4.75</td>\n",
       "      <td>5.33</td>\n",
       "    </tr>\n",
       "    <tr>\n",
       "      <th>10928</th>\n",
       "      <td>2023</td>\n",
       "      <td>12</td>\n",
       "      <td>4.75</td>\n",
       "      <td>5.33</td>\n",
       "    </tr>\n",
       "    <tr>\n",
       "      <th>10929</th>\n",
       "      <td>2023</td>\n",
       "      <td>12</td>\n",
       "      <td>4.75</td>\n",
       "      <td>5.33</td>\n",
       "    </tr>\n",
       "    <tr>\n",
       "      <th>10930</th>\n",
       "      <td>2023</td>\n",
       "      <td>12</td>\n",
       "      <td>4.75</td>\n",
       "      <td>5.33</td>\n",
       "    </tr>\n",
       "  </tbody>\n",
       "</table>\n",
       "<p>10931 rows × 4 columns</p>\n",
       "</div>"
      ],
      "text/plain": [
       "       Year Month  Israel_Interest_Tares  Us_Interest_Rates\n",
       "0      1994    01                  10.50               3.05\n",
       "1      1994    01                  10.50               3.05\n",
       "2      1994    01                  10.50               3.05\n",
       "3      1994    01                  10.50               3.05\n",
       "4      1994    01                  10.50               3.05\n",
       "...     ...   ...                    ...                ...\n",
       "10926  2023    12                   4.75               5.33\n",
       "10927  2023    12                   4.75               5.33\n",
       "10928  2023    12                   4.75               5.33\n",
       "10929  2023    12                   4.75               5.33\n",
       "10930  2023    12                   4.75               5.33\n",
       "\n",
       "[10931 rows x 4 columns]"
      ]
     },
     "execution_count": 50,
     "metadata": {},
     "output_type": "execute_result"
    }
   ],
   "source": [
    "# B - 1\n",
    "# your code here\n",
    "merged_data = pd.merge(israel_interest_tares, us_interest_rates, on=['Year', 'Month'], how='inner')[['Year', 'Month', 'Israel_Interest_Tares', 'Us_Interest_Rates']]\n",
    "\n",
    "merged_data"
   ]
  },
  {
   "cell_type": "code",
   "execution_count": 53,
   "id": "7f18978fee56c6d6",
   "metadata": {
    "ExecuteTime": {
     "end_time": "2024-11-07T00:06:08.105790Z",
     "start_time": "2024-11-07T00:06:08.103620Z"
    }
   },
   "outputs": [
    {
     "data": {
      "text/plain": [
       "0        1.839506\n",
       "1        1.839506\n",
       "2        1.839506\n",
       "3        1.839506\n",
       "4        1.839506\n",
       "           ...   \n",
       "10926    1.241135\n",
       "10927    1.241135\n",
       "10928    1.241135\n",
       "10929    1.241135\n",
       "10930    1.241135\n",
       "Name: Rate_Difference, Length: 10931, dtype: float64"
      ]
     },
     "execution_count": 53,
     "metadata": {},
     "output_type": "execute_result"
    }
   ],
   "source": [
    "# B - 2\n",
    "# your code here\n",
    "# אחרי שראיתי את שאלה B5\n",
    "# הבנתי מה צריך לעשות\n",
    "merged_data['Rate_Difference'] = ((1 + all_data['Israel_Interest_Tares']) / (1 + all_data['Us_Interest_Rates']) - 1)\n",
    "merged_data['Rate_Difference']"
   ]
  },
  {
   "cell_type": "code",
   "execution_count": 46,
   "id": "c6dcf835650149bf",
   "metadata": {
    "ExecuteTime": {
     "end_time": "2024-11-07T00:06:10.259079Z",
     "start_time": "2024-11-07T00:06:10.257004Z"
    }
   },
   "outputs": [
    {
     "data": {
      "text/plain": [
       "0        IH\n",
       "1        IH\n",
       "2        IH\n",
       "3        IH\n",
       "4        IH\n",
       "         ..\n",
       "10926     N\n",
       "10927     N\n",
       "10928     N\n",
       "10929     N\n",
       "10930     N\n",
       "Name: Rate_Comparison, Length: 10931, dtype: object"
      ]
     },
     "execution_count": 46,
     "metadata": {},
     "output_type": "execute_result"
    }
   ],
   "source": [
    "# B - 3\n",
    "# your code here\n",
    "\n",
    "# https://www.calculatorsoup.com/calculators/algebra/percentage-increase-calculator.php\n",
    "conditions = [\n",
    "    (merged_data['Israel_Interest_Tares'] >= merged_data['Us_Interest_Rates'] + 1),\n",
    "    (merged_data['Us_Interest_Rates'] >= merged_data['Israel_Interest_Tares'] + 1),\n",
    "    (abs(merged_data['Israel_Interest_Tares'] - merged_data['Us_Interest_Rates']) < 1)\n",
    "]\n",
    "\n",
    "choices = ['IH', 'UH', 'N']\n",
    "\n",
    "merged_data['Rate_Comparison'] = np.select(conditions, choices, default='Unknown')\n",
    "merged_data['Rate_Comparison']"
   ]
  },
  {
   "cell_type": "code",
   "execution_count": 47,
   "id": "3145d351d7cbe982",
   "metadata": {
    "ExecuteTime": {
     "end_time": "2024-11-07T00:06:12.381548Z",
     "start_time": "2024-11-07T00:06:12.379873Z"
    }
   },
   "outputs": [
    {
     "data": {
      "text/html": [
       "<div>\n",
       "<style scoped>\n",
       "    .dataframe tbody tr th:only-of-type {\n",
       "        vertical-align: middle;\n",
       "    }\n",
       "\n",
       "    .dataframe tbody tr th {\n",
       "        vertical-align: top;\n",
       "    }\n",
       "\n",
       "    .dataframe thead th {\n",
       "        text-align: right;\n",
       "    }\n",
       "</style>\n",
       "<table border=\"1\" class=\"dataframe\">\n",
       "  <thead>\n",
       "    <tr style=\"text-align: right;\">\n",
       "      <th></th>\n",
       "      <th>Year</th>\n",
       "      <th>Month</th>\n",
       "      <th>Current_Rate</th>\n",
       "      <th>Change_From_Last_Month</th>\n",
       "      <th>Israel_Interest_Tares</th>\n",
       "      <th>Us_Interest_Rates</th>\n",
       "      <th>Rate_Difference</th>\n",
       "      <th>Rate_Comparison</th>\n",
       "    </tr>\n",
       "  </thead>\n",
       "  <tbody>\n",
       "    <tr>\n",
       "      <th>0</th>\n",
       "      <td>1994</td>\n",
       "      <td>01</td>\n",
       "      <td>2.986</td>\n",
       "      <td>0.000</td>\n",
       "      <td>10.50</td>\n",
       "      <td>3.05</td>\n",
       "      <td>7.45</td>\n",
       "      <td>IH</td>\n",
       "    </tr>\n",
       "    <tr>\n",
       "      <th>1</th>\n",
       "      <td>1994</td>\n",
       "      <td>01</td>\n",
       "      <td>2.986</td>\n",
       "      <td>0.000</td>\n",
       "      <td>10.50</td>\n",
       "      <td>3.05</td>\n",
       "      <td>7.45</td>\n",
       "      <td>IH</td>\n",
       "    </tr>\n",
       "    <tr>\n",
       "      <th>2</th>\n",
       "      <td>1994</td>\n",
       "      <td>01</td>\n",
       "      <td>2.986</td>\n",
       "      <td>0.000</td>\n",
       "      <td>10.50</td>\n",
       "      <td>3.05</td>\n",
       "      <td>7.45</td>\n",
       "      <td>IH</td>\n",
       "    </tr>\n",
       "    <tr>\n",
       "      <th>3</th>\n",
       "      <td>1994</td>\n",
       "      <td>01</td>\n",
       "      <td>2.986</td>\n",
       "      <td>0.000</td>\n",
       "      <td>10.50</td>\n",
       "      <td>3.05</td>\n",
       "      <td>7.45</td>\n",
       "      <td>IH</td>\n",
       "    </tr>\n",
       "    <tr>\n",
       "      <th>4</th>\n",
       "      <td>1994</td>\n",
       "      <td>01</td>\n",
       "      <td>2.986</td>\n",
       "      <td>0.000</td>\n",
       "      <td>10.50</td>\n",
       "      <td>3.05</td>\n",
       "      <td>7.45</td>\n",
       "      <td>IH</td>\n",
       "    </tr>\n",
       "    <tr>\n",
       "      <th>...</th>\n",
       "      <td>...</td>\n",
       "      <td>...</td>\n",
       "      <td>...</td>\n",
       "      <td>...</td>\n",
       "      <td>...</td>\n",
       "      <td>...</td>\n",
       "      <td>...</td>\n",
       "      <td>...</td>\n",
       "    </tr>\n",
       "    <tr>\n",
       "      <th>227434</th>\n",
       "      <td>2023</td>\n",
       "      <td>12</td>\n",
       "      <td>3.627</td>\n",
       "      <td>0.008</td>\n",
       "      <td>4.75</td>\n",
       "      <td>5.33</td>\n",
       "      <td>-0.58</td>\n",
       "      <td>N</td>\n",
       "    </tr>\n",
       "    <tr>\n",
       "      <th>227435</th>\n",
       "      <td>2023</td>\n",
       "      <td>12</td>\n",
       "      <td>3.627</td>\n",
       "      <td>0.008</td>\n",
       "      <td>4.75</td>\n",
       "      <td>5.33</td>\n",
       "      <td>-0.58</td>\n",
       "      <td>N</td>\n",
       "    </tr>\n",
       "    <tr>\n",
       "      <th>227436</th>\n",
       "      <td>2023</td>\n",
       "      <td>12</td>\n",
       "      <td>3.627</td>\n",
       "      <td>0.008</td>\n",
       "      <td>4.75</td>\n",
       "      <td>5.33</td>\n",
       "      <td>-0.58</td>\n",
       "      <td>N</td>\n",
       "    </tr>\n",
       "    <tr>\n",
       "      <th>227437</th>\n",
       "      <td>2023</td>\n",
       "      <td>12</td>\n",
       "      <td>3.627</td>\n",
       "      <td>0.008</td>\n",
       "      <td>4.75</td>\n",
       "      <td>5.33</td>\n",
       "      <td>-0.58</td>\n",
       "      <td>N</td>\n",
       "    </tr>\n",
       "    <tr>\n",
       "      <th>227438</th>\n",
       "      <td>2023</td>\n",
       "      <td>12</td>\n",
       "      <td>3.627</td>\n",
       "      <td>0.008</td>\n",
       "      <td>4.75</td>\n",
       "      <td>5.33</td>\n",
       "      <td>-0.58</td>\n",
       "      <td>N</td>\n",
       "    </tr>\n",
       "  </tbody>\n",
       "</table>\n",
       "<p>227439 rows × 8 columns</p>\n",
       "</div>"
      ],
      "text/plain": [
       "        Year Month  Current_Rate  Change_From_Last_Month  \\\n",
       "0       1994    01         2.986                   0.000   \n",
       "1       1994    01         2.986                   0.000   \n",
       "2       1994    01         2.986                   0.000   \n",
       "3       1994    01         2.986                   0.000   \n",
       "4       1994    01         2.986                   0.000   \n",
       "...      ...   ...           ...                     ...   \n",
       "227434  2023    12         3.627                   0.008   \n",
       "227435  2023    12         3.627                   0.008   \n",
       "227436  2023    12         3.627                   0.008   \n",
       "227437  2023    12         3.627                   0.008   \n",
       "227438  2023    12         3.627                   0.008   \n",
       "\n",
       "        Israel_Interest_Tares  Us_Interest_Rates  Rate_Difference  \\\n",
       "0                       10.50               3.05             7.45   \n",
       "1                       10.50               3.05             7.45   \n",
       "2                       10.50               3.05             7.45   \n",
       "3                       10.50               3.05             7.45   \n",
       "4                       10.50               3.05             7.45   \n",
       "...                       ...                ...              ...   \n",
       "227434                   4.75               5.33            -0.58   \n",
       "227435                   4.75               5.33            -0.58   \n",
       "227436                   4.75               5.33            -0.58   \n",
       "227437                   4.75               5.33            -0.58   \n",
       "227438                   4.75               5.33            -0.58   \n",
       "\n",
       "       Rate_Comparison  \n",
       "0                   IH  \n",
       "1                   IH  \n",
       "2                   IH  \n",
       "3                   IH  \n",
       "4                   IH  \n",
       "...                ...  \n",
       "227434               N  \n",
       "227435               N  \n",
       "227436               N  \n",
       "227437               N  \n",
       "227438               N  \n",
       "\n",
       "[227439 rows x 8 columns]"
      ]
     },
     "execution_count": 47,
     "metadata": {},
     "output_type": "execute_result"
    }
   ],
   "source": [
    "# B - 4\n",
    "# your code here\n",
    "all_data = pd.merge(usd_to_ils_exchange_rates, merged_data, on=['Year', 'Month'], how='inner')\n",
    "all_data"
   ]
  },
  {
   "cell_type": "code",
   "execution_count": 55,
   "id": "fe04eba74c68ab35",
   "metadata": {
    "ExecuteTime": {
     "end_time": "2024-11-07T00:06:37.878612Z",
     "start_time": "2024-11-07T00:06:37.876775Z"
    }
   },
   "outputs": [
    {
     "data": {
      "text/plain": [
       "0         22.24570\n",
       "1         22.24570\n",
       "2         22.24570\n",
       "3         22.24570\n",
       "4         22.24570\n",
       "            ...   \n",
       "227434    -2.10366\n",
       "227435    -2.10366\n",
       "227436    -2.10366\n",
       "227437    -2.10366\n",
       "227438    -2.10366\n",
       "Length: 227439, dtype: float64"
      ]
     },
     "execution_count": 55,
     "metadata": {},
     "output_type": "execute_result"
    }
   ],
   "source": [
    "# B - 5\n",
    "# your code here\n",
    "\n",
    "# https://www.globes.co.il/news/article.aspx?did=1001489717\n",
    "# https://tradingpedia.co.il/%D7%94%D7%92%D7%93%D7%A8%D7%94-%D7%A0%D7%95%D7%A1%D7%97%D7%94-%D7%95%D7%93%D7%95%D7%92%D7%9E%D7%94-%D7%A9%D7%9C-%D7%A9%D7%95%D7%95%D7%99-%D7%A8%D7%99%D7%91%D7%99%D7%AA-%28irp%29/\n",
    "# https://www.investopedia.com/terms/i/interestrateparity.asp\n",
    "\n",
    "# F0=S0×(1+ic1+ib) זה נוסכה שמצאתי באיטרנט על חישוב שוויון ריבית הסבר על מה זה שוויון ריבית מוצג בקישור\n",
    "# כמו שהבנתי צריך לחשב את זה ככה (שיניתי את שאלה 2 ע\"פ הפונקציה)\n",
    "IRP = all_data['Rate_Difference'] * all_data['Current_Rate']\n",
    "IRP"
   ]
  },
  {
   "cell_type": "markdown",
   "id": "22213f81bdf06965",
   "metadata": {},
   "source": [
    "## Part C: Analyzing Relationships Between DataFrames\n",
    "1. Analyze whether increases in US interest rates are associated with increases or decreases in the USD to ILS exchange rate in the same month.\n",
    "\n",
    "2. Determine if changes in the Israeli interest rate have a stronger impact on the exchange rate than changes in the US interest rate.\n",
    "\n",
    "3. Find any time lags in the effect of interest rate changes on the exchange rate. For example, does a change in US interest rates affect the exchange rate in the following month?\n",
    "(כלומר- האם כשיש שינוי בריבית כלשהי - האם מייד יש שינוי בשער ההמרה? או שיש דיליי של חודש/חודשים עד שמרגישים את ההשפעה - אם בכלל?)\n",
    "\n",
    "4. Calculate the rolling past 3-month average of the exchange rate for each data time, and add it as a new column.\n",
    "\n",
    "5. Identify any periods where both US and Israeli interest rates were decreasing, and analyze how the exchange rate behaved during those periods.\n",
    "\n"
   ]
  },
  {
   "cell_type": "code",
   "execution_count": 76,
   "id": "706a690fd803211c",
   "metadata": {},
   "outputs": [
    {
     "data": {
      "text/plain": [
       "Year                      173\n",
       "Month                     173\n",
       "Current_Rate              173\n",
       "Change_From_Last_Month    173\n",
       "Israel_Interest_Tares     173\n",
       "Us_Interest_Rates         173\n",
       "Rate_Difference           173\n",
       "Rate_Comparison           173\n",
       "dtype: int64"
      ]
     },
     "execution_count": 76,
     "metadata": {},
     "output_type": "execute_result"
    }
   ],
   "source": [
    "# C - 1\n",
    "# your code here\n",
    "\n",
    "all_data[(all_data['Us_Interest_Rates'].diff() > 0) & (all_data['Change_From_Last_Month'] > 0)].count() # 68\n",
    "all_data[(all_data['Us_Interest_Rates'].diff() > 0)].count() # 173\n",
    "\n",
    "# פחות מחמישים אחוז אז נראה שזה לא קשור"
   ]
  },
  {
   "cell_type": "code",
   "execution_count": 77,
   "id": "c8f461f5-bc6c-4a41-a833-325f7a53000f",
   "metadata": {},
   "outputs": [
    {
     "data": {
      "text/plain": [
       "Year                      1213\n",
       "Month                     1213\n",
       "Current_Rate              1213\n",
       "Change_From_Last_Month    1213\n",
       "Israel_Interest_Tares     1213\n",
       "Us_Interest_Rates         1213\n",
       "Rate_Difference           1213\n",
       "Rate_Comparison           1213\n",
       "dtype: int64"
      ]
     },
     "execution_count": 77,
     "metadata": {},
     "output_type": "execute_result"
    }
   ],
   "source": [
    "# C - 2\n",
    "# your code here\n",
    "all_data[(all_data['Israel_Interest_Tares'].diff() > 0) & (all_data['Change_From_Last_Month'] > 0)].count() # 1213\n",
    "\n",
    "# נראה שיש"
   ]
  },
  {
   "cell_type": "code",
   "execution_count": null,
   "id": "fb8a8c78-f39d-448c-90d8-4aa63d52ec13",
   "metadata": {},
   "outputs": [],
   "source": [
    "# C - 3\n",
    "# your code here\n"
   ]
  },
  {
   "cell_type": "code",
   "execution_count": null,
   "id": "4569d16e-9ad6-4a8b-8d96-e7a57211d68d",
   "metadata": {},
   "outputs": [],
   "source": [
    "# C - 4\n",
    "# your code here\n"
   ]
  },
  {
   "cell_type": "code",
   "execution_count": 78,
   "id": "0e7cf631-0629-490a-acfc-bf05b849b7a4",
   "metadata": {},
   "outputs": [
    {
     "data": {
      "text/plain": [
       "3.8242272727272724"
      ]
     },
     "execution_count": 78,
     "metadata": {},
     "output_type": "execute_result"
    }
   ],
   "source": [
    "# C - 5\n",
    "# your code here\n",
    "all_data[(all_data['Israel_Interest_Tares'].diff() > 0) & (all_data['Us_Interest_Rates'] > 0)]['Current_Rate'].mean()"
   ]
  },
  {
   "cell_type": "markdown",
   "id": "8be22debf92d8f3a",
   "metadata": {},
   "source": [
    "# Bonus\n",
    "choose 3 global / local events or periods that you think could have affected the exchange rate or interest rates\n",
    "and analyze the effect of these events on the data you collected.\n",
    "show proof of your analysis that supports your claim.\n",
    "\n",
    "(כלומר- תבחנו אירועים שקרו בתקופה שאתם עובדים עליה ובדקו איך הם השפיעו על הנתונים שאתם עובדים איתם)\n",
    "למשל: בחירות בארה״ב, בחירות בישראל, רוסיה אוקראינה, מלחמות בישראל וכו׳."
   ]
  },
  {
   "cell_type": "code",
   "execution_count": null,
   "id": "7cd992b43f3700e8",
   "metadata": {},
   "outputs": [],
   "source": [
    "# Your code here"
   ]
  }
 ],
 "metadata": {
  "kernelspec": {
   "display_name": "Python 3 (ipykernel)",
   "language": "python",
   "name": "python3"
  },
  "language_info": {
   "codemirror_mode": {
    "name": "ipython",
    "version": 3
   },
   "file_extension": ".py",
   "mimetype": "text/x-python",
   "name": "python",
   "nbconvert_exporter": "python",
   "pygments_lexer": "ipython3",
   "version": "3.11.6"
  }
 },
 "nbformat": 4,
 "nbformat_minor": 5
}
